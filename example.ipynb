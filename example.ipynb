{
  "nbformat": 4,
  "nbformat_minor": 0,
  "metadata": {
    "colab": {
      "name": "example.ipynb",
      "provenance": [],
      "collapsed_sections": []
    },
    "kernelspec": {
      "name": "python3",
      "display_name": "Python 3"
    },
    "language_info": {
      "name": "python"
    }
  },
  "cells": [
    {
      "cell_type": "code",
      "source": [
        "import matplotlib as mpl\n",
        "import matplotlib.pyplot as plt\n",
        "import missingno as msno\n",
        "%matplotlib inline\n",
        "\n",
        "import pandas as pd\n",
        "import numpy as np\n",
        "import seaborn as sns\n",
        "pd.options.mode.chained_assignment = None\n",
        "\n",
        "import joblib\n",
        "from imblearn.over_sampling import RandomOverSampler\n",
        "import nltk\n",
        "from nltk.corpus import stopwords\n",
        "from sklearn.model_selection import train_test_split\n",
        "\n",
        "import lightgbm as lgb\n",
        "from sklearn.linear_model import LogisticRegression, SGDClassifier\n",
        "from sklearn.ensemble import RandomForestClassifier\n",
        "from sklearn.naive_bayes import GaussianNB\n",
        "from sklearn.preprocessing import MaxAbsScaler\n",
        "from nltk.tokenize import word_tokenize\n",
        "from sklearn.metrics import classification_report, roc_auc_score, accuracy_score\n",
        "from sklearn.feature_extraction.text import CountVectorizer, TfidfVectorizer\n",
        "\n",
        "np.random.seed(42)"
      ],
      "metadata": {
        "id": "tWxlR7E8ZRHN"
      },
      "execution_count": null,
      "outputs": []
    },
    {
      "cell_type": "code",
      "source": [
        "def build_new_model(df, rating, review, output_model, language = 'russian'):\n",
        "  def process_string(string): \n",
        "    string = str(string).lower()\n",
        "    string = ' '.join([word for word in string.split() if word not in sw])\n",
        "    return string\n",
        "\n",
        "  def build_str(df, label):\n",
        "    data = df[df[rating] == label]\n",
        "    return ' '.join([process_string(s) for s in data[review]])\n",
        "\n",
        "  df = df.dropna()\n",
        "\n",
        "  df[rating].astype(str).astype(int)\n",
        "\n",
        "  criteria = [df[rating].between(1, 2), df[rating] == 3, df[rating].between(4, 6)]\n",
        "  values = [-1, 0 ,1]\n",
        "  df[rating] = np.select(criteria, values, 0)\n",
        "  oversample = RandomOverSampler()\n",
        "  df, y = oversample.fit_resample(df, df[rating])\n",
        "\n",
        "  sw = set(stopwords.words(language))\n",
        "  df[review] = df[review].map(process_string)\n",
        "\n",
        "  X = df.drop(rating, axis=\"columns\")\n",
        "  y = df[rating]    \n",
        "\n",
        "  trainX, testX, trainY, testY = train_test_split(X[review], y, test_size=0.3, random_state=42)\n",
        "  trainX.shape, testX.shape, trainY.shape, testY.shape\n",
        "\n",
        "  cnt_vec = CountVectorizer(ngram_range=(2, 2))\n",
        "\n",
        "  bow = cnt_vec.fit_transform(trainX) \n",
        "  bow_test = cnt_vec.transform(testX)\n",
        "  scaler = MaxAbsScaler()\n",
        "  bow = pd.DataFrame.sparse.from_spmatrix(scaler.fit_transform(bow), trainX.index)\n",
        "  bow_test = pd.DataFrame.sparse.from_spmatrix(scaler.transform(bow_test), testX.index)\n",
        "\n",
        "  clf = LogisticRegression()\n",
        "  clf.fit(bow, trainY)\n",
        "  pred = clf.predict(bow_test)\n",
        "  print(classification_report(testY, pred))\n",
        "  accuracy_score(testY, pred)\n",
        "  joblib.dump(clf, output_model + \".pkl\")\n",
        "\n",
        "  return df"
      ],
      "metadata": {
        "id": "y7gQ0rqtbDP9"
      },
      "execution_count": null,
      "outputs": []
    },
    {
      "cell_type": "code",
      "source": [
        "data = '/content/drive/MyDrive/Colab Notebooks/emlife.xlsx'\n",
        "rating = \"Рейтинг\"\n",
        "review = \"Комментарий\"\n",
        "new_model_name = \"new_model\"\n",
        "\n",
        "df = pd.read_excel('/content/drive/MyDrive/Colab Notebooks/emlife.xlsx')\n",
        "df_res = build_new_model(df, rating, review, new_model_name)"
      ],
      "metadata": {
        "id": "IIQ3kuevbDNP",
        "colab": {
          "base_uri": "https://localhost:8080/"
        },
        "outputId": "32db54a5-f308-44e3-b7ee-d848c22f9eca"
      },
      "execution_count": null,
      "outputs": [
        {
          "output_type": "stream",
          "name": "stdout",
          "text": [
            "              precision    recall  f1-score   support\n",
            "\n",
            "          -1       0.70      0.91      0.79       159\n",
            "           0       0.98      0.98      0.98       155\n",
            "           1       0.90      0.63      0.74       158\n",
            "\n",
            "    accuracy                           0.84       472\n",
            "   macro avg       0.86      0.84      0.84       472\n",
            "weighted avg       0.86      0.84      0.84       472\n",
            "\n"
          ]
        }
      ]
    },
    {
      "cell_type": "code",
      "source": [
        "def predict(new_model, df, review, output_file):\n",
        "  def process_string(string): \n",
        "    string = str(string).lower()\n",
        "    string = ' '.join([word for word in string.split() if word not in sw])\n",
        "    return string\n",
        "\n",
        "  def build_str(df, label):\n",
        "    data = df[df[rating] == label]\n",
        "    return ' '.join([process_string(s) for s in data[review]])\n",
        "\n",
        "  if (new_model[-4:-1] == \".pkl\"):\n",
        "    classify = joblib.load(open(new_model, 'rb'))\n",
        "  else:\n",
        "    classify = joblib.load(open(new_model + \".pkl\", 'rb'))\n",
        "\n",
        "  comments = df[review]\n",
        "  sw = set(stopwords.words('russian'))\n",
        "  comments = comments.map(process_string)\n",
        "  testX = comments\n",
        "  cnt_vec = CountVectorizer(ngram_range=(2, 2))\n",
        "  bow = cnt_vec.fit_transform(testX)\n",
        "  scaler = MaxAbsScaler()\n",
        "  scaler.fit(bow)\n",
        "  bow = pd.DataFrame.sparse.from_spmatrix(scaler.fit_transform(bow), testX.index)\n",
        "  prediction = classify.predict(bow.iloc[:, : classify.coef_.shape[-1]])\n",
        "  result = pd.concat([df[review], pd.DataFrame(prediction)], axis=1)\n",
        "  result.rename(columns = {review : 'comment', 0 : 'rate'}, inplace = True)\n",
        "  result['rate'] = np.where((result.comment.astype(str) == 'nan'), 0, result.rate)\n",
        "  result['comment'] = np.where((result.comment.astype(str) == 'nan'), ' ', result.comment)\n",
        "  result.to_excel(output_file + '.xlsx')\n",
        "  return result"
      ],
      "metadata": {
        "id": "cUsJ4p85bDKA"
      },
      "execution_count": null,
      "outputs": []
    },
    {
      "cell_type": "code",
      "source": [
        "data = '/content/drive/MyDrive/Colab Notebooks/emlife.xlsx'\n",
        "review = \"Комментарий\"\n",
        "new_model_name = \"new_model\"\n",
        "output_file = 'output'\n",
        "\n",
        "df = pd.read_excel(data)\n",
        "df = predict(new_model_name, df, review, output_file)"
      ],
      "metadata": {
        "id": "6PYGoD1qbC6y"
      },
      "execution_count": null,
      "outputs": []
    }
  ]
}